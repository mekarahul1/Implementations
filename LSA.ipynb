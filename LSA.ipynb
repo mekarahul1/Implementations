{
  "nbformat": 4,
  "nbformat_minor": 0,
  "metadata": {
    "colab": {
      "name": "LSA.ipynb",
      "version": "0.3.2",
      "provenance": [],
      "collapsed_sections": [],
      "include_colab_link": true
    },
    "kernelspec": {
      "name": "python3",
      "display_name": "Python 3"
    }
  },
  "cells": [
    {
      "cell_type": "markdown",
      "metadata": {
        "id": "view-in-github",
        "colab_type": "text"
      },
      "source": [
        "<a href=\"https://colab.research.google.com/github/mekarahul1/Implementations/blob/master/LSA.ipynb\" target=\"_parent\"><img src=\"https://colab.research.google.com/assets/colab-badge.svg\" alt=\"Open In Colab\"/></a>"
      ]
    },
    {
      "cell_type": "markdown",
      "metadata": {
        "id": "_v49o7HVPnxe",
        "colab_type": "text"
      },
      "source": [
        "# Linear Discriminant Analysis\n",
        "\n",
        "Listed below are the 5 general steps for performing a linear discriminant analysis; we will explore them in more detail in the following sections.\n",
        "\n",
        "* Compute the d-dimensional mean vectors for the different classes from the dataset.\n",
        "* Compute the scatter matrices (in-between-class and within-class scatter matrix).\n",
        "* Compute the eigenvectors (e1,e2,...,ed) and corresponding eigenvalues (λ1,λ2,...,λd) for the scatter matrices.\n",
        "* Sort the eigenvectors by decreasing eigenvalues and choose k eigenvectors with the largest eigenvalues to form a d×k dimensional matrix W (where every column represents an eigenvector).\n",
        "* Use this d×k eigenvector matrix to transform the samples onto the new subspace. This can be summarized by the matrix multiplication: Y=X×W (where X is a n×d-dimensional matrix representing the n samples, and yy are the transformed n×k-dimensional samples in the new subspace).\n",
        "\n"
      ]
    },
    {
      "cell_type": "markdown",
      "metadata": {
        "id": "RIm7CAj_4VP9",
        "colab_type": "text"
      },
      "source": [
        "## Step 1 : \n",
        "\n",
        "Take the whole dataset consisting of d-dimensional samples ignoring the class labels"
      ]
    },
    {
      "cell_type": "code",
      "metadata": {
        "id": "EYCwFO-cZ8LJ",
        "colab_type": "code",
        "colab": {
          "base_uri": "https://localhost:8080/",
          "height": 197
        },
        "outputId": "f7fa415e-80cc-42f5-9c64-6952c1891f05"
      },
      "source": [
        "import pandas as pd\n",
        "feature_dict = {i:label for i,label in zip(\n",
        "                range(4),\n",
        "                  ('sepal length in cm',\n",
        "                  'sepal width in cm',\n",
        "                  'petal length in cm',\n",
        "                  'petal width in cm', ))}\n",
        "df = pd.io.parsers.read_csv(\n",
        "    filepath_or_buffer='https://archive.ics.uci.edu/ml/machine-learning-databases/iris/iris.data',\n",
        "    header=None,\n",
        "    sep=',',\n",
        "    )\n",
        "df.columns = [l for i,l in sorted(feature_dict.items())] + ['class label']\n",
        "df.dropna(how=\"all\", inplace=True) # to drop the empty line at file-end\n",
        "\n",
        "df.tail()"
      ],
      "execution_count": 5,
      "outputs": [
        {
          "output_type": "execute_result",
          "data": {
            "text/html": [
              "<div>\n",
              "<style scoped>\n",
              "    .dataframe tbody tr th:only-of-type {\n",
              "        vertical-align: middle;\n",
              "    }\n",
              "\n",
              "    .dataframe tbody tr th {\n",
              "        vertical-align: top;\n",
              "    }\n",
              "\n",
              "    .dataframe thead th {\n",
              "        text-align: right;\n",
              "    }\n",
              "</style>\n",
              "<table border=\"1\" class=\"dataframe\">\n",
              "  <thead>\n",
              "    <tr style=\"text-align: right;\">\n",
              "      <th></th>\n",
              "      <th>sepal length in cm</th>\n",
              "      <th>sepal width in cm</th>\n",
              "      <th>petal length in cm</th>\n",
              "      <th>petal width in cm</th>\n",
              "      <th>class label</th>\n",
              "    </tr>\n",
              "  </thead>\n",
              "  <tbody>\n",
              "    <tr>\n",
              "      <th>145</th>\n",
              "      <td>6.7</td>\n",
              "      <td>3.0</td>\n",
              "      <td>5.2</td>\n",
              "      <td>2.3</td>\n",
              "      <td>Iris-virginica</td>\n",
              "    </tr>\n",
              "    <tr>\n",
              "      <th>146</th>\n",
              "      <td>6.3</td>\n",
              "      <td>2.5</td>\n",
              "      <td>5.0</td>\n",
              "      <td>1.9</td>\n",
              "      <td>Iris-virginica</td>\n",
              "    </tr>\n",
              "    <tr>\n",
              "      <th>147</th>\n",
              "      <td>6.5</td>\n",
              "      <td>3.0</td>\n",
              "      <td>5.2</td>\n",
              "      <td>2.0</td>\n",
              "      <td>Iris-virginica</td>\n",
              "    </tr>\n",
              "    <tr>\n",
              "      <th>148</th>\n",
              "      <td>6.2</td>\n",
              "      <td>3.4</td>\n",
              "      <td>5.4</td>\n",
              "      <td>2.3</td>\n",
              "      <td>Iris-virginica</td>\n",
              "    </tr>\n",
              "    <tr>\n",
              "      <th>149</th>\n",
              "      <td>5.9</td>\n",
              "      <td>3.0</td>\n",
              "      <td>5.1</td>\n",
              "      <td>1.8</td>\n",
              "      <td>Iris-virginica</td>\n",
              "    </tr>\n",
              "  </tbody>\n",
              "</table>\n",
              "</div>"
            ],
            "text/plain": [
              "     sepal length in cm  sepal width in cm  ...  petal width in cm     class label\n",
              "145                 6.7                3.0  ...                2.3  Iris-virginica\n",
              "146                 6.3                2.5  ...                1.9  Iris-virginica\n",
              "147                 6.5                3.0  ...                2.0  Iris-virginica\n",
              "148                 6.2                3.4  ...                2.3  Iris-virginica\n",
              "149                 5.9                3.0  ...                1.8  Iris-virginica\n",
              "\n",
              "[5 rows x 5 columns]"
            ]
          },
          "metadata": {
            "tags": []
          },
          "execution_count": 5
        }
      ]
    },
    {
      "cell_type": "code",
      "metadata": {
        "id": "2Lv7qL_yZ97K",
        "colab_type": "code",
        "colab": {
          "base_uri": "https://localhost:8080/",
          "height": 34
        },
        "outputId": "5458ac8b-4a5a-48c5-eab6-470f3d570b32"
      },
      "source": [
        "from sklearn.preprocessing import LabelEncoder\n",
        "\n",
        "X = df.iloc[0:,:4].values\n",
        "y = df['class label'].values\n",
        "print(X[2])\n",
        "enc = LabelEncoder()\n",
        "label_encoder = enc.fit(y)\n",
        "y = label_encoder.transform(y) + 1\n",
        "\n",
        "label_dict = {1: 'Setosa', 2: 'Versicolor', 3:'Virginica'}"
      ],
      "execution_count": 32,
      "outputs": [
        {
          "output_type": "stream",
          "text": [
            "[4.7 3.2 1.3 0.2]\n"
          ],
          "name": "stdout"
        }
      ]
    },
    {
      "cell_type": "code",
      "metadata": {
        "id": "bnue3cCdhBem",
        "colab_type": "code",
        "colab": {
          "base_uri": "https://localhost:8080/",
          "height": 494
        },
        "outputId": "3db84da9-ffd7-49b3-8332-5ac2d7229438"
      },
      "source": [
        "from matplotlib import pyplot as plt\n",
        "import numpy as np\n",
        "import math\n",
        "\n",
        "fig, axes = plt.subplots(nrows=2, ncols=2, figsize=(12,6))\n",
        "\n",
        "for ax,cnt in zip(axes.ravel(), range(4)):  \n",
        "\n",
        "    # set bin sizes\n",
        "    min_b = math.floor(np.min(X[:,cnt]))\n",
        "    max_b = math.ceil(np.max(X[:,cnt]))\n",
        "    bins = np.linspace(min_b, max_b, 25)\n",
        "\n",
        "    # plottling the histograms\n",
        "    for lab,col in zip(range(1,4), ('blue', 'red', 'green')):\n",
        "        ax.hist(X[y==lab, cnt],\n",
        "                   color=col,\n",
        "                   label='class %s' %label_dict[lab],\n",
        "                   bins=bins,\n",
        "                   alpha=0.5,)\n",
        "    ylims = ax.get_ylim()\n",
        "\n",
        "    # plot annotation\n",
        "    leg = ax.legend(loc='upper right', fancybox=True, fontsize=8)\n",
        "    leg.get_frame().set_alpha(0.5)\n",
        "    ax.set_ylim([0, max(ylims)+2])\n",
        "    ax.set_xlabel(feature_dict[cnt])\n",
        "    ax.set_title('Iris histogram #%s' %str(cnt+1))\n",
        "\n",
        "    # hide axis ticks\n",
        "    ax.tick_params(axis=\"both\", which=\"both\", bottom=\"off\", top=\"off\",  \n",
        "            labelbottom=\"on\", left=\"off\", right=\"off\", labelleft=\"on\")\n",
        "\n",
        "    # remove axis spines\n",
        "    ax.spines[\"top\"].set_visible(False)  \n",
        "    ax.spines[\"right\"].set_visible(False)\n",
        "    ax.spines[\"bottom\"].set_visible(False)\n",
        "    ax.spines[\"left\"].set_visible(False)    \n",
        "\n",
        "axes[0][0].set_ylabel('count')\n",
        "axes[1][0].set_ylabel('count')\n",
        "\n",
        "fig.tight_layout()       \n",
        "\n",
        "plt.show()"
      ],
      "execution_count": 33,
      "outputs": [
        {
          "output_type": "stream",
          "text": [
            "/usr/local/lib/python3.6/dist-packages/matplotlib/cbook/__init__.py:424: MatplotlibDeprecationWarning: \n",
            "Passing one of 'on', 'true', 'off', 'false' as a boolean is deprecated; use an actual boolean (True/False) instead.\n",
            "  warn_deprecated(\"2.2\", \"Passing one of 'on', 'true', 'off', 'false' as a \"\n"
          ],
          "name": "stderr"
        },
        {
          "output_type": "display_data",
          "data": {
            "image/png": "[encoded data removed]",
            "text/plain": [
              "<Figure size 864x432 with 4 Axes>"
            ]
          },
          "metadata": {
            "tags": []
          }
        }
      ]
    },
    {
      "cell_type": "markdown",
      "metadata": {
        "id": "q2hMRNPdhgAY",
        "colab_type": "text"
      },
      "source": [
        "## Step 1\n",
        "\n",
        "Computing the d-dimensional mean vectors"
      ]
    },
    {
      "cell_type": "code",
      "metadata": {
        "id": "2JTWSyE5aKR8",
        "colab_type": "code",
        "colab": {
          "base_uri": "https://localhost:8080/",
          "height": 123
        },
        "outputId": "5eff1427-6288-43c0-9ffe-9885a53109f0"
      },
      "source": [
        "np.set_printoptions(precision=4)\n",
        "\n",
        "mean_vectors = []\n",
        "for cl in range(1,4):\n",
        "    mean_vectors.append(np.mean(X[y==cl], axis=0))\n",
        "    print('Mean Vector class %s: %s\\n' %(cl, mean_vectors[cl-1]))"
      ],
      "execution_count": 35,
      "outputs": [
        {
          "output_type": "stream",
          "text": [
            "Mean Vector class 1: [5.006 3.418 1.464 0.244]\n",
            "\n",
            "Mean Vector class 2: [5.936 2.77  4.26  1.326]\n",
            "\n",
            "Mean Vector class 3: [6.588 2.974 5.552 2.026]\n",
            "\n"
          ],
          "name": "stdout"
        }
      ]
    },
    {
      "cell_type": "markdown",
      "metadata": {
        "id": "Ez6K6fRKhmqn",
        "colab_type": "text"
      },
      "source": [
        "## Step 2:\n",
        "Computing the Scatter Matrices"
      ]
    },
    {
      "cell_type": "code",
      "metadata": {
        "id": "_1SNCgabhGoc",
        "colab_type": "code",
        "colab": {
          "base_uri": "https://localhost:8080/",
          "height": 105
        },
        "outputId": "428fe41f-464c-457a-e907-f893f6233a9c"
      },
      "source": [
        "S_W = np.zeros((4,4))\n",
        "for cl,mv in zip(range(1,4), mean_vectors):\n",
        "    class_sc_mat = np.zeros((4,4))                  # scatter matrix for every class\n",
        "    for row in X[y == cl]:\n",
        "        row, mv = row.reshape(4,1), mv.reshape(4,1) # make column vectors\n",
        "        class_sc_mat += (row-mv).dot((row-mv).T)\n",
        "    S_W += class_sc_mat                             # sum class scatter matrices\n",
        "print('within-class Scatter Matrix:\\n', S_W)"
      ],
      "execution_count": 37,
      "outputs": [
        {
          "output_type": "stream",
          "text": [
            "within-class Scatter Matrix:\n",
            " [[38.9562 13.683  24.614   5.6556]\n",
            " [13.683  17.035   8.12    4.9132]\n",
            " [24.614   8.12   27.22    6.2536]\n",
            " [ 5.6556  4.9132  6.2536  6.1756]]\n"
          ],
          "name": "stdout"
        }
      ]
    },
    {
      "cell_type": "code",
      "metadata": {
        "id": "8WaIUkjuhJXw",
        "colab_type": "code",
        "colab": {
          "base_uri": "https://localhost:8080/",
          "height": 105
        },
        "outputId": "64f0fcfb-24db-43a7-e1e6-460c03b848a3"
      },
      "source": [
        "overall_mean = np.mean(X, axis=0)\n",
        "\n",
        "S_B = np.zeros((4,4))\n",
        "for i,mean_vec in enumerate(mean_vectors):  \n",
        "    n = X[y==i+1,:].shape[0]\n",
        "    mean_vec = mean_vec.reshape(4,1) # make column vector\n",
        "    overall_mean = overall_mean.reshape(4,1) # make column vector\n",
        "    S_B += n * (mean_vec - overall_mean).dot((mean_vec - overall_mean).T)\n",
        "\n",
        "print('between-class Scatter Matrix:\\n', S_B)"
      ],
      "execution_count": 38,
      "outputs": [
        {
          "output_type": "stream",
          "text": [
            "between-class Scatter Matrix:\n",
            " [[ 63.2121 -19.534  165.1647  71.3631]\n",
            " [-19.534   10.9776 -56.0552 -22.4924]\n",
            " [165.1647 -56.0552 436.6437 186.9081]\n",
            " [ 71.3631 -22.4924 186.9081  80.6041]]\n"
          ],
          "name": "stdout"
        }
      ]
    },
    {
      "cell_type": "markdown",
      "metadata": {
        "id": "ZSz28sAVhu1q",
        "colab_type": "text"
      },
      "source": [
        "## Step 3: \n",
        "Solving the generalized eigenvalue problem for the matrix S−1WSB"
      ]
    },
    {
      "cell_type": "code",
      "metadata": {
        "id": "C4mLQNDThMno",
        "colab_type": "code",
        "colab": {
          "base_uri": "https://localhost:8080/",
          "height": 514
        },
        "outputId": "f5510bca-e037-4611-e219-303f0010c5fc"
      },
      "source": [
        "eig_vals, eig_vecs = np.linalg.eig(np.linalg.inv(S_W).dot(S_B))\n",
        "\n",
        "for i in range(len(eig_vals)):\n",
        "    eigvec_sc = eig_vecs[:,i].reshape(4,1)   \n",
        "    print('\\nEigenvector {}: \\n{}'.format(i+1, eigvec_sc.real))\n",
        "    print('Eigenvalue {:}: {:.2e}'.format(i+1, eig_vals[i].real))"
      ],
      "execution_count": 39,
      "outputs": [
        {
          "output_type": "stream",
          "text": [
            "\n",
            "Eigenvector 1: \n",
            "[[ 0.2049]\n",
            " [ 0.3871]\n",
            " [-0.5465]\n",
            " [-0.7138]]\n",
            "Eigenvalue 1: 3.23e+01\n",
            "\n",
            "Eigenvector 2: \n",
            "[[-0.009 ]\n",
            " [-0.589 ]\n",
            " [ 0.2543]\n",
            " [-0.767 ]]\n",
            "Eigenvalue 2: 2.78e-01\n",
            "\n",
            "Eigenvector 3: \n",
            "[[-0.8379]\n",
            " [ 0.1696]\n",
            " [ 0.1229]\n",
            " [ 0.5041]]\n",
            "Eigenvalue 3: -4.13e-15\n",
            "\n",
            "Eigenvector 4: \n",
            "[[ 0.2   ]\n",
            " [-0.3949]\n",
            " [-0.4567]\n",
            " [ 0.7717]]\n",
            "Eigenvalue 4: 1.20e-14\n"
          ],
          "name": "stdout"
        }
      ]
    },
    {
      "cell_type": "markdown",
      "metadata": {
        "id": "fF6_t2tMh3HD",
        "colab_type": "text"
      },
      "source": [
        "## Step 4:\n",
        "\n",
        "Selecting linear discriminants for the new feature subspace"
      ]
    },
    {
      "cell_type": "code",
      "metadata": {
        "id": "ulOs-AcEhOXF",
        "colab_type": "code",
        "colab": {
          "base_uri": "https://localhost:8080/",
          "height": 123
        },
        "outputId": "47f87b70-3f61-4044-e9f0-d986a6d411d7"
      },
      "source": [
        "# Make a list of (eigenvalue, eigenvector) tuples\n",
        "eig_pairs = [(np.abs(eig_vals[i]), eig_vecs[:,i]) for i in range(len(eig_vals))]\n",
        "\n",
        "# Sort the (eigenvalue, eigenvector) tuples from high to low\n",
        "eig_pairs = sorted(eig_pairs, key=lambda k: k[0], reverse=True)\n",
        "\n",
        "# Visually confirm that the list is correctly sorted by decreasing eigenvalues\n",
        "\n",
        "print('Eigenvalues in decreasing order:\\n')\n",
        "for i in eig_pairs:\n",
        "    print(i[0])"
      ],
      "execution_count": 40,
      "outputs": [
        {
          "output_type": "stream",
          "text": [
            "Eigenvalues in decreasing order:\n",
            "\n",
            "32.27195779972981\n",
            "0.27756686384004264\n",
            "1.1953730364935478e-14\n",
            "4.1311796919088535e-15\n"
          ],
          "name": "stdout"
        }
      ]
    },
    {
      "cell_type": "code",
      "metadata": {
        "id": "DuFmngByhSS6",
        "colab_type": "code",
        "colab": {
          "base_uri": "https://localhost:8080/",
          "height": 123
        },
        "outputId": "7d5de89b-204f-47a4-e4f1-c9a909826c77"
      },
      "source": [
        "print('Variance explained:\\n')\n",
        "eigv_sum = sum(eig_vals)\n",
        "for i,j in enumerate(eig_pairs):\n",
        "    print('eigenvalue {0:}: {1:.2%}'.format(i+1, (j[0]/eigv_sum).real))"
      ],
      "execution_count": 41,
      "outputs": [
        {
          "output_type": "stream",
          "text": [
            "Variance explained:\n",
            "\n",
            "eigenvalue 1: 99.15%\n",
            "eigenvalue 2: 0.85%\n",
            "eigenvalue 3: 0.00%\n",
            "eigenvalue 4: 0.00%\n"
          ],
          "name": "stdout"
        }
      ]
    },
    {
      "cell_type": "code",
      "metadata": {
        "id": "hCiWNxgAhUC2",
        "colab_type": "code",
        "colab": {
          "base_uri": "https://localhost:8080/",
          "height": 105
        },
        "outputId": "a8db2153-129d-44e0-9503-b2a21094cc17"
      },
      "source": [
        "W = np.hstack((eig_pairs[0][1].reshape(4,1), eig_pairs[1][1].reshape(4,1)))\n",
        "print('Matrix W:\\n', W.real)"
      ],
      "execution_count": 42,
      "outputs": [
        {
          "output_type": "stream",
          "text": [
            "Matrix W:\n",
            " [[ 0.2049 -0.009 ]\n",
            " [ 0.3871 -0.589 ]\n",
            " [-0.5465  0.2543]\n",
            " [-0.7138 -0.767 ]]\n"
          ],
          "name": "stdout"
        }
      ]
    },
    {
      "cell_type": "markdown",
      "metadata": {
        "id": "PAiXSzgEiAJB",
        "colab_type": "text"
      },
      "source": [
        "## Step 5: \n",
        "Transforming the samples onto the new subspace"
      ]
    },
    {
      "cell_type": "code",
      "metadata": {
        "id": "Nuq1jI_zhV_4",
        "colab_type": "code",
        "colab": {}
      },
      "source": [
        "X_lda = X.dot(W)\n",
        "assert X_lda.shape == (150,2), \"The matrix is not 150x2 dimensional.\""
      ],
      "execution_count": 0,
      "outputs": []
    },
    {
      "cell_type": "code",
      "metadata": {
        "id": "jEV-me9rhZPy",
        "colab_type": "code",
        "colab": {
          "base_uri": "https://localhost:8080/",
          "height": 347
        },
        "outputId": "12e192af-aa7f-4ff1-90a7-21d26b41b43b"
      },
      "source": [
        "from matplotlib import pyplot as plt\n",
        "\n",
        "def plot_step_lda():\n",
        "\n",
        "    ax = plt.subplot(111)\n",
        "    for label,marker,color in zip(\n",
        "        range(1,4),('^', 's', 'o'),('blue', 'red', 'green')):\n",
        "\n",
        "        plt.scatter(x=X_lda[:,0].real[y == label],\n",
        "                y=X_lda[:,1].real[y == label],\n",
        "                marker=marker,\n",
        "                color=color,\n",
        "                alpha=0.5,\n",
        "                label=label_dict[label]\n",
        "                )\n",
        "\n",
        "    plt.xlabel('LD1')\n",
        "    plt.ylabel('LD2')\n",
        "\n",
        "    leg = plt.legend(loc='upper right', fancybox=True)\n",
        "    leg.get_frame().set_alpha(0.5)\n",
        "    plt.title('LDA: Iris projection onto the first 2 linear discriminants')\n",
        "\n",
        "    # hide axis ticks\n",
        "    plt.tick_params(axis=\"both\", which=\"both\", bottom=\"off\", top=\"off\",  \n",
        "            labelbottom=\"on\", left=\"off\", right=\"off\", labelleft=\"on\")\n",
        "\n",
        "    # remove axis spines\n",
        "    ax.spines[\"top\"].set_visible(False)  \n",
        "    ax.spines[\"right\"].set_visible(False)\n",
        "    ax.spines[\"bottom\"].set_visible(False)\n",
        "    ax.spines[\"left\"].set_visible(False)    \n",
        "\n",
        "    plt.grid()\n",
        "    plt.tight_layout\n",
        "    plt.show()\n",
        "\n",
        "plot_step_lda()"
      ],
      "execution_count": 44,
      "outputs": [
        {
          "output_type": "stream",
          "text": [
            "/usr/local/lib/python3.6/dist-packages/matplotlib/cbook/__init__.py:424: MatplotlibDeprecationWarning: \n",
            "Passing one of 'on', 'true', 'off', 'false' as a boolean is deprecated; use an actual boolean (True/False) instead.\n",
            "  warn_deprecated(\"2.2\", \"Passing one of 'on', 'true', 'off', 'false' as a \"\n"
          ],
          "name": "stderr"
        },
        {
          "output_type": "display_data",
          "data": {
            "image/png": "[encoded data removed]",
            "text/plain": [
              "<Figure size 432x288 with 1 Axes>"
            ]
          },
          "metadata": {
            "tags": []
          }
        }
      ]
    },
    {
      "cell_type": "code",
      "metadata": {
        "id": "dYSeGUTzhZM2",
        "colab_type": "code",
        "colab": {}
      },
      "source": [
        ""
      ],
      "execution_count": 0,
      "outputs": []
    }
  ]
}